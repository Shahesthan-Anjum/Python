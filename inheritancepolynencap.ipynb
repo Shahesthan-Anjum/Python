{
  "nbformat": 4,
  "nbformat_minor": 0,
  "metadata": {
    "colab": {
      "name": "inheritancepolynencap.ipynb",
      "provenance": [],
      "authorship_tag": "ABX9TyMg4Aj0LYvnkllZY6Rlg/8z",
      "include_colab_link": true
    },
    "kernelspec": {
      "name": "python3",
      "display_name": "Python 3"
    },
    "language_info": {
      "name": "python"
    }
  },
  "cells": [
    {
      "cell_type": "markdown",
      "metadata": {
        "id": "view-in-github",
        "colab_type": "text"
      },
      "source": [
        "<a href=\"https://colab.research.google.com/github/Shahesthan-Anjum/Python/blob/main/inheritancepolynencap.ipynb\" target=\"_parent\"><img src=\"https://colab.research.google.com/assets/colab-badge.svg\" alt=\"Open In Colab\"/></a>"
      ]
    },
    {
      "cell_type": "code",
      "execution_count": 4,
      "metadata": {
        "colab": {
          "base_uri": "https://localhost:8080/"
        },
        "id": "V97WtxM_aek2",
        "outputId": "b6d9979f-ae21-4cd8-9615-59724b7e1764"
      },
      "outputs": [
        {
          "output_type": "stream",
          "name": "stdout",
          "text": [
            "Anjum False\n",
            "Anjum True\n",
            "Shahesthan True\n"
          ]
        }
      ],
      "source": [
        "# A Python program to demonstrate inheritance\n",
        "\n",
        "# Base or Super class. Note object in bracket.\n",
        "# (Generally, object is made ancestor of all classes)\n",
        "# equivalent to \"class Person(object)\"\n",
        "class Person(object):\n",
        "\t\n",
        "\t# Constructor\n",
        "\tdef __init__(self, name):\n",
        "\t\tself.name = name\n",
        "\n",
        "\t# To get name\n",
        "\tdef getName(self):\n",
        "\t\treturn self.name\n",
        "\n",
        "\t# To check if this person is an employee\n",
        "\tdef isEmployee(self):\n",
        "\t\treturn False\n",
        "\n",
        "\n",
        "# Inherited or Subclass (Note Person in bracket)\n",
        "class Employee(Person):\n",
        "\n",
        "\t# Here we return true\n",
        "\tdef isEmployee(self):\n",
        "\t\treturn True\n",
        "\n",
        "# Driver code\n",
        "emp = Person(\"Anjum\") # An Object of Person\n",
        "print(emp.getName(), emp.isEmployee())\n",
        "\n",
        "emp = Employee(\"Anjum\") # An Object of Employee\n",
        "print(emp.getName(), emp.isEmployee())\n",
        "\n",
        "emp = Employee(\"Shahesthan\") # An Object of Employee\n",
        "print(emp.getName(), emp.isEmployee())\n"
      ]
    },
    {
      "cell_type": "code",
      "source": [
        "# Python code to demonstrate how parent constructors\n",
        "# are called.\n",
        "\n",
        "# parent class\n",
        "class Person( object ):\n",
        "\n",
        "\t\t# __init__ is known as the constructor\t\t\n",
        "\t\tdef __init__(self, name, idnumber):\n",
        "\t\t\t\tself.name = name\n",
        "\t\t\t\tself.idnumber = idnumber\n",
        "\t\tdef display(self):\n",
        "\t\t\t\tprint(self.name)\n",
        "\t\t\t\tprint(self.idnumber)\n",
        "\n",
        "# child class\n",
        "class Employee( Person ):\t\t\n",
        "\t\tdef __init__(self, name, idnumber, salary, post):\n",
        "\t\t\t\tself.salary = salary\n",
        "\t\t\t\tself.post = post\n",
        "\n",
        "\t\t\t\t# invoking the __init__ of the parent class\n",
        "\t\t\t\tPerson.__init__(self, name, idnumber)\n",
        "\n",
        "\t\t\t\t\n",
        "# creation of an object variable or an instance\n",
        "a = Employee('Anjum', 886012, 200000, \"Intern\")\n",
        "\n",
        "# calling a function of the class Person using its instance\n",
        "a.display()\n"
      ],
      "metadata": {
        "colab": {
          "base_uri": "https://localhost:8080/"
        },
        "id": "kOC1ZQg9fjA2",
        "outputId": "db9a12fa-81eb-4f4d-c836-31bd753a4e59"
      },
      "execution_count": 6,
      "outputs": [
        {
          "output_type": "stream",
          "name": "stdout",
          "text": [
            "Anjum\n",
            "886012\n"
          ]
        }
      ]
    },
    {
      "cell_type": "code",
      "source": [
        "# single inheritance\n",
        "# Base class\n",
        "class Parent:\n",
        "\tdef func1(self):\n",
        "\t\tprint(\"This function is in parent class.\")\n",
        "\n",
        "# Derived class\n",
        "class Child(Parent):\n",
        "\tdef func2(self):\n",
        "\t\tprint(\"This function is in child class.\")\n",
        "\n",
        "# Driver's code\n",
        "object = Child()\n",
        "object.func1()\n",
        "object.func2()\n"
      ],
      "metadata": {
        "colab": {
          "base_uri": "https://localhost:8080/"
        },
        "id": "oLEewMw6gBH8",
        "outputId": "b3d004e2-e911-4ad8-90bf-7f183adaf9d6"
      },
      "execution_count": 7,
      "outputs": [
        {
          "output_type": "stream",
          "name": "stdout",
          "text": [
            "This function is in parent class.\n",
            "This function is in child class.\n"
          ]
        }
      ]
    },
    {
      "cell_type": "code",
      "source": [
        "# Python program to demonstrate\n",
        "# multiple inheritance\n",
        "\n",
        "\n",
        "# Base class1\n",
        "class Mother:\n",
        "\tmothername = \"\"\n",
        "\tdef mother(self):\n",
        "\t\tprint(self.mothername)\n",
        "\n",
        "# Base class2\n",
        "class Father:\n",
        "\tfathername = \"\"\n",
        "\tdef father(self):\n",
        "\t\tprint(self.fathername)\n",
        "\n",
        "# Derived class\n",
        "class Son(Mother, Father):\n",
        "\tdef parents(self):\n",
        "\t\tprint(\"Father :\", self.fathername)\n",
        "\t\tprint(\"Mother :\", self.mothername)\n",
        "\n",
        "# Driver's code\n",
        "s1 = Son()\n",
        "s1.fathername = \"Mastan Wali\"\n",
        "s1.mothername = \"Shahida Begum\"\n",
        "s1.parents()\n"
      ],
      "metadata": {
        "colab": {
          "base_uri": "https://localhost:8080/"
        },
        "id": "RPuijCyHgMqN",
        "outputId": "f01923cf-5c90-414e-b247-621a6633afb5"
      },
      "execution_count": 9,
      "outputs": [
        {
          "output_type": "stream",
          "name": "stdout",
          "text": [
            "Father : Mastan Wali\n",
            "Mother : Shahida Begum\n"
          ]
        }
      ]
    },
    {
      "cell_type": "code",
      "source": [
        "# multilevel inheritance\n",
        "\n",
        "# Base class\n",
        "class Grandfather:\n",
        "\n",
        "\tdef __init__(self, grandfathername):\n",
        "\t\tself.grandfathername = grandfathername\n",
        "\n",
        "# Intermediate class\n",
        "class Father(Grandfather):\n",
        "\tdef __init__(self, fathername, grandfathername):\n",
        "\t\tself.fathername = fathername\n",
        "\n",
        "\t\t# invoking constructor of Grandfather class\n",
        "\t\tGrandfather.__init__(self, grandfathername)\n",
        "\n",
        "# Derived class\n",
        "class Son(Father):\n",
        "\tdef __init__(self,sonname, fathername, grandfathername):\n",
        "\t\tself.sonname = sonname\n",
        "\n",
        "\t\t# invoking constructor of Father class\n",
        "\t\tFather.__init__(self, fathername, grandfathername)\n",
        "\n",
        "\tdef print_name(self):\n",
        "\t\tprint('Grandfather name :', self.grandfathername)\n",
        "\t\tprint(\"Father name :\", self.fathername)\n",
        "\t\tprint(\"Son name :\", self.sonname)\n",
        "\n",
        "# Driver code\n",
        "s1 = Son('Noor', 'Masthan', 'Ibrahim')\n",
        "print(s1.grandfathername)\n",
        "s1.print_name()\n"
      ],
      "metadata": {
        "colab": {
          "base_uri": "https://localhost:8080/"
        },
        "id": "7SI6M-0rga1f",
        "outputId": "051bbb07-3946-403e-a88b-e36ad831226b"
      },
      "execution_count": 12,
      "outputs": [
        {
          "output_type": "stream",
          "name": "stdout",
          "text": [
            "Ibrahim\n",
            "Grandfather name : Ibrahim\n",
            "Father name : Masthan\n",
            "Son name : Noor\n"
          ]
        }
      ]
    },
    {
      "cell_type": "code",
      "source": [
        "# Hierarchical inheritance\n",
        "\n",
        "\n",
        "# Base class\n",
        "class Parent:\n",
        "\tdef func1(self):\n",
        "\t\tprint(\"This function is in parent class.\")\n",
        "\n",
        "# Derived class1\n",
        "class Child1(Parent):\n",
        "\tdef func2(self):\n",
        "\t\tprint(\"This function is in child 1.\")\n",
        "\n",
        "# Derivied class2\n",
        "class Child2(Parent):\n",
        "\tdef func3(self):\n",
        "\t\tprint(\"This function is in child 2.\")\n",
        "\n",
        "# Driver's code\n",
        "object1 = Child1()\n",
        "object2 = Child2()\n",
        "object1.func1()\n",
        "object1.func2()\n",
        "object2.func1()\n",
        "object2.func3()\n"
      ],
      "metadata": {
        "colab": {
          "base_uri": "https://localhost:8080/"
        },
        "id": "W0SGSn9Kh4ol",
        "outputId": "2ee7e2f8-deb4-42d7-ed34-e535174d3bee"
      },
      "execution_count": 13,
      "outputs": [
        {
          "output_type": "stream",
          "name": "stdout",
          "text": [
            "This function is in parent class.\n",
            "This function is in child 1.\n",
            "This function is in parent class.\n",
            "This function is in child 2.\n"
          ]
        }
      ]
    },
    {
      "cell_type": "code",
      "source": [
        "# Python program to demonstrate\n",
        "# hybrid inheritance\n",
        "\n",
        "\n",
        "class School:\n",
        "\tdef func1(self):\n",
        "\t\tprint(\"This function is in school.\")\n",
        "\n",
        "class Student1(School):\n",
        "\tdef func2(self):\n",
        "\t\tprint(\"This function is in student 1. \")\n",
        "\n",
        "class Student2(School):\n",
        "\tdef func3(self):\n",
        "\t\tprint(\"This function is in student 2.\")\n",
        "\n",
        "class Student3(Student1, School):\n",
        "\tdef func4(self):\n",
        "\t\tprint(\"This function is in student 3.\")\n",
        "\n",
        "# Driver's code\n",
        "object = Student3()\n",
        "object.func1()\n",
        "object.func2()\n"
      ],
      "metadata": {
        "colab": {
          "base_uri": "https://localhost:8080/"
        },
        "id": "bttiqjiajJrf",
        "outputId": "878dc078-9358-426b-b39e-c42b7f80cf46"
      },
      "execution_count": 14,
      "outputs": [
        {
          "output_type": "stream",
          "name": "stdout",
          "text": [
            "This function is in school.\n",
            "This function is in student 1. \n"
          ]
        }
      ]
    },
    {
      "cell_type": "code",
      "source": [
        "# Encapsulation\n",
        "# demonstrate protected members\n",
        "\n",
        "# Creating a base class\n",
        "class Base:\n",
        "\tdef __init__(self):\n",
        "\n",
        "\t\t# Protected member\n",
        "\t\tself._a = 2\n",
        "\n",
        "# Creating a derived class\n",
        "class Derived(Base):\n",
        "\tdef __init__(self):\n",
        "\n",
        "\t\t# Calling constructor of\n",
        "\t\t# Base class\n",
        "\t\tBase.__init__(self)\n",
        "\t\tprint(\"Calling protected member of base class: \",\n",
        "\t\t\tself._a)\n",
        "\n",
        "\t\t# Modify the protected variable:\n",
        "\t\tself._a = 3\n",
        "\t\tprint(\"Calling modified protected member outside class: \",\n",
        "\t\t\tself._a)\n",
        "\n",
        "\n",
        "obj1 = Derived()\n",
        "\n",
        "obj2 = Base()\n",
        "\n",
        "# Calling protected member\n",
        "# Can be accessed but should not be done due to convention\n",
        "print(\"Accessing protected member of obj1: \", obj1._a)\n",
        "\n",
        "# Accessing the protected variable outside\n",
        "print(\"Accessing protected member of obj2: \", obj2._a)\n"
      ],
      "metadata": {
        "colab": {
          "base_uri": "https://localhost:8080/"
        },
        "id": "u5SrIQ0dpBwq",
        "outputId": "1bb21aab-7c69-4a93-b42c-580c5627b097"
      },
      "execution_count": 15,
      "outputs": [
        {
          "output_type": "stream",
          "name": "stdout",
          "text": [
            "Calling protected member of base class:  2\n",
            "Calling modified protected member outside class:  3\n",
            "Accessing protected member of obj1:  3\n",
            "Accessing protected member of obj2:  2\n"
          ]
        }
      ]
    },
    {
      "cell_type": "code",
      "source": [
        "#Polymorphism\n",
        "class India():\n",
        "\tdef capital(self):\n",
        "\t\tprint(\"New Delhi is the capital of India.\")\n",
        "\n",
        "\tdef language(self):\n",
        "\t\tprint(\"Hindi is the most widely spoken language of India.\")\n",
        "\n",
        "\tdef type(self):\n",
        "\t\tprint(\"India is a developing country.\")\n",
        "\n",
        "class USA():\n",
        "\tdef capital(self):\n",
        "\t\tprint(\"Washington, D.C. is the capital of USA.\")\n",
        "\n",
        "\tdef language(self):\n",
        "\t\tprint(\"English is the primary language of USA.\")\n",
        "\n",
        "\tdef type(self):\n",
        "\t\tprint(\"USA is a developed country.\")\n",
        "\n",
        "obj_ind = India()\n",
        "obj_usa = USA()\n",
        "for country in (obj_ind, obj_usa):\n",
        "\tcountry.capital()\n",
        "\tcountry.language()\n",
        "\tcountry.type()\n"
      ],
      "metadata": {
        "colab": {
          "base_uri": "https://localhost:8080/"
        },
        "id": "wu5rmDV7pMVF",
        "outputId": "f7e54cc3-0a6c-4442-a6cb-b96d26c09749"
      },
      "execution_count": 16,
      "outputs": [
        {
          "output_type": "stream",
          "name": "stdout",
          "text": [
            "New Delhi is the capital of India.\n",
            "Hindi is the most widely spoken language of India.\n",
            "India is a developing country.\n",
            "Washington, D.C. is the capital of USA.\n",
            "English is the primary language of USA.\n",
            "USA is a developed country.\n"
          ]
        }
      ]
    }
  ]
}