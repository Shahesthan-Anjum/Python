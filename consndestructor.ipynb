{
  "nbformat": 4,
  "nbformat_minor": 0,
  "metadata": {
    "colab": {
      "name": "consndestructor.ipynb",
      "provenance": [],
      "authorship_tag": "ABX9TyOOGoQKJc4pl4a2V+TF6WVs",
      "include_colab_link": true
    },
    "kernelspec": {
      "name": "python3",
      "display_name": "Python 3"
    },
    "language_info": {
      "name": "python"
    }
  },
  "cells": [
    {
      "cell_type": "markdown",
      "metadata": {
        "id": "view-in-github",
        "colab_type": "text"
      },
      "source": [
        "<a href=\"https://colab.research.google.com/github/Shahesthan-Anjum/Python/blob/main/consndestructor.ipynb\" target=\"_parent\"><img src=\"https://colab.research.google.com/assets/colab-badge.svg\" alt=\"Open In Colab\"/></a>"
      ]
    },
    {
      "cell_type": "code",
      "execution_count": 1,
      "metadata": {
        "colab": {
          "base_uri": "https://localhost:8080/",
          "height": 131
        },
        "id": "UH57RtQYYENz",
        "outputId": "7e1c5ce9-cd3d-4e2d-fde6-4bbb81580536"
      },
      "outputs": [
        {
          "output_type": "error",
          "ename": "SyntaxError",
          "evalue": "ignored",
          "traceback": [
            "\u001b[0;36m  File \u001b[0;32m\"<ipython-input-1-cb6acf1fca4d>\"\u001b[0;36m, line \u001b[0;32m2\u001b[0m\n\u001b[0;31m    # body of the constructor\u001b[0m\n\u001b[0m                             ^\u001b[0m\n\u001b[0;31mSyntaxError\u001b[0m\u001b[0;31m:\u001b[0m unexpected EOF while parsing\n"
          ]
        }
      ],
      "source": [
        "def __init__(self):\n",
        "    # body of the constructor"
      ]
    },
    {
      "cell_type": "code",
      "source": [
        "class laptop:\n",
        "\n",
        "\t# default constructor\n",
        "\tdef __init__(self):\n",
        "\t\tself.lappy = \"laptop\"\n",
        "\n",
        "\t# a method for printing data members\n",
        "\tdef print_lap(self):\n",
        "\t\tprint(self.lappy)\n",
        "\n",
        "\n",
        "# creating object of the class\n",
        "#obj = laptop(\"print_lap()\")\n",
        "obj = laptop()\n",
        "# calling the instance method using the object obj\n",
        "obj.print_lap()\n"
      ],
      "metadata": {
        "colab": {
          "base_uri": "https://localhost:8080/"
        },
        "id": "SnpdFQq7YiaT",
        "outputId": "c0821121-1c78-457d-a136-7aecaa390648"
      },
      "execution_count": 6,
      "outputs": [
        {
          "output_type": "stream",
          "name": "stdout",
          "text": [
            "laptop\n"
          ]
        }
      ]
    },
    {
      "cell_type": "code",
      "source": [
        "class Addition:\n",
        "\tfirst = 0\n",
        "\tsecond = 0\n",
        "\tanswer = 0\n",
        "\t\n",
        "\t# parameterized constructor\n",
        "\tdef __init__(self, f, s):\n",
        "\t\tself.first = f\n",
        "\t\tself.second = s\n",
        "\t\n",
        "\tdef display(self):\n",
        "\t\tprint(\"First number = \" + str(self.first))\n",
        "\t\tprint(\"Second number = \" + str(self.second))\n",
        "\t\tprint(\"Addition of two numbers = \" + str(self.answer))\n",
        "\n",
        "\tdef calculate(self):\n",
        "\t\tself.answer = self.first + self.second\n",
        "\n",
        "# creating object of the class\n",
        "# this will invoke parameterized constructor\n",
        "obj = Addition(1000, 2000)\n",
        "\n",
        "# perform Addition\n",
        "obj.calculate()\n",
        "\n",
        "# display result\n",
        "obj.display()\n"
      ],
      "metadata": {
        "colab": {
          "base_uri": "https://localhost:8080/"
        },
        "id": "8yWOCA-pZxfX",
        "outputId": "b40dce4d-1a03-487f-caeb-b935bb4fdc4a"
      },
      "execution_count": 7,
      "outputs": [
        {
          "output_type": "stream",
          "name": "stdout",
          "text": [
            "First number = 1000\n",
            "Second number = 2000\n",
            "Addition of two numbers = 3000\n"
          ]
        }
      ]
    },
    {
      "cell_type": "code",
      "source": [
        "def __del__(self):\n",
        "  # body of destructor"
      ],
      "metadata": {
        "id": "7flQdCJmaAgE"
      },
      "execution_count": null,
      "outputs": []
    },
    {
      "cell_type": "code",
      "source": [
        "# Python program to illustrate destructor\n",
        "class Employee:\n",
        "\n",
        "\t# Initializing\n",
        "\tdef __init__(self):\n",
        "\t\tprint('Employee created.')\n",
        "\n",
        "\t# Deleting (Calling destructor)\n",
        "\tdef __del__(self):\n",
        "\t\tprint('Destructor called, Employee deleted.')\n",
        "\n",
        "obj = Employee()\n",
        "del obj\n"
      ],
      "metadata": {
        "colab": {
          "base_uri": "https://localhost:8080/"
        },
        "id": "nD0hR_M_aEW7",
        "outputId": "fc3781d6-c553-41e2-80d2-073fcae6e5a3"
      },
      "execution_count": 8,
      "outputs": [
        {
          "output_type": "stream",
          "name": "stdout",
          "text": [
            "Employee created.\n",
            "Destructor called, Employee deleted.\n"
          ]
        }
      ]
    },
    {
      "cell_type": "code",
      "source": [
        "# Python program to illustrate destructor\n",
        "\n",
        "class Employee:\n",
        "\n",
        "\t# Initializing\n",
        "\tdef __init__(self):\n",
        "\t\tprint('Employee created')\n",
        "\n",
        "\t# Calling destructor\n",
        "\tdef __del__(self):\n",
        "\t\tprint(\"Destructor called\")\n",
        "\n",
        "def Create_obj():\n",
        "\tprint('Making Object...')\n",
        "\tobj = Employee()\n",
        "\tprint('function end...')\n",
        "\treturn obj\n",
        "\n",
        "print('Calling Create_obj() function...')\n",
        "obj = Create_obj()\n",
        "print('Program End...')\n"
      ],
      "metadata": {
        "colab": {
          "base_uri": "https://localhost:8080/"
        },
        "id": "3UyEnxJTaNkP",
        "outputId": "e9cb8d98-626b-4071-cb4a-f9b500e3e966"
      },
      "execution_count": 9,
      "outputs": [
        {
          "output_type": "stream",
          "name": "stdout",
          "text": [
            "Calling Create_obj() function...\n",
            "Making Object...\n",
            "Employee created\n",
            "function end...\n",
            "Program End...\n"
          ]
        }
      ]
    }
  ]
}