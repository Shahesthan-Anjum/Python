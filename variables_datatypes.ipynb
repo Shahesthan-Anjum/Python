{
  "nbformat": 4,
  "nbformat_minor": 0,
  "metadata": {
    "colab": {
      "name": "variables/datatypes.ipynb",
      "provenance": [],
      "authorship_tag": "ABX9TyNZ+Oh2TXOL1VmVzD/QztjI",
      "include_colab_link": true
    },
    "kernelspec": {
      "name": "python3",
      "display_name": "Python 3"
    },
    "language_info": {
      "name": "python"
    }
  },
  "cells": [
    {
      "cell_type": "markdown",
      "metadata": {
        "id": "view-in-github",
        "colab_type": "text"
      },
      "source": [
        "<a href=\"https://colab.research.google.com/github/Shahesthan-Anjum/Python/blob/main/variables_datatypes.ipynb\" target=\"_parent\"><img src=\"https://colab.research.google.com/assets/colab-badge.svg\" alt=\"Open In Colab\"/></a>"
      ]
    },
    {
      "cell_type": "code",
      "execution_count": 1,
      "metadata": {
        "colab": {
          "base_uri": "https://localhost:8080/"
        },
        "id": "1Cu73KY5IZpx",
        "outputId": "243853b1-deb6-42a5-fdc3-05fdb1c1785f"
      },
      "outputs": [
        {
          "output_type": "stream",
          "name": "stdout",
          "text": [
            "36\n"
          ]
        }
      ],
      "source": [
        "best_value = 36 # Variable best_value created and assigned the value of 36\n",
        "print(best_value)"
      ]
    },
    {
      "cell_type": "code",
      "source": [
        "best value = 36 # Variable best_value created and assigned the value of 36\n",
        "print(best_value)"
      ],
      "metadata": {
        "colab": {
          "base_uri": "https://localhost:8080/",
          "height": 131
        },
        "id": "Xl21F7S8IboP",
        "outputId": "bec41808-7de7-4596-898a-8bb59bccc0c1"
      },
      "execution_count": 2,
      "outputs": [
        {
          "output_type": "error",
          "ename": "SyntaxError",
          "evalue": "ignored",
          "traceback": [
            "\u001b[0;36m  File \u001b[0;32m\"<ipython-input-2-71f566208503>\"\u001b[0;36m, line \u001b[0;32m1\u001b[0m\n\u001b[0;31m    best value = 36 # Variable best_value created and assigned the value of 36\u001b[0m\n\u001b[0m             ^\u001b[0m\n\u001b[0;31mSyntaxError\u001b[0m\u001b[0;31m:\u001b[0m invalid syntax\n"
          ]
        }
      ]
    },
    {
      "cell_type": "code",
      "source": [
        "bestvalue = 36 # Variable best_value created and assigned the value of 36\n",
        "print(best_value)#in python variable must begin with small letter n there must be no space only underscore\n"
      ],
      "metadata": {
        "colab": {
          "base_uri": "https://localhost:8080/"
        },
        "id": "bHmOTxnDInsV",
        "outputId": "686eec05-8149-43d7-a43f-bdde51b74541"
      },
      "execution_count": 3,
      "outputs": [
        {
          "output_type": "stream",
          "name": "stdout",
          "text": [
            "36\n"
          ]
        }
      ]
    },
    {
      "cell_type": "code",
      "source": [
        "abs = 5 # Creating the variable abs and assigning it the value of 5\n",
        "print(\"abs:\", abs) # Printing the value of the abs variable (reserved word getting overriden)\n",
        "\n",
        "#neg = -1\n",
        "#print(abs(neg)) # Using built-in abs command to make the variable neg positiv]\n",
        "\n",
        "\n",
        "negs = -1\n",
        "print(\"negs:\",negs)"
      ],
      "metadata": {
        "colab": {
          "base_uri": "https://localhost:8080/"
        },
        "id": "tC2n4kL3JIHZ",
        "outputId": "d04f5e84-9cb6-48fe-e740-f7b4f6bee57d"
      },
      "execution_count": 7,
      "outputs": [
        {
          "output_type": "stream",
          "name": "stdout",
          "text": [
            "abs: 5\n",
            "negs: -1\n"
          ]
        }
      ]
    },
    {
      "cell_type": "code",
      "source": [
        "#datatypes int\n",
        "num = 73 # Positive number\n",
        "print(num) \n",
        "\n",
        "neg_num = -15 # Negative number\n",
        "print(neg_num) \n",
        "\n",
        "largeNumber = 12345678901234567890 \n",
        "print(largeNumber) "
      ],
      "metadata": {
        "colab": {
          "base_uri": "https://localhost:8080/"
        },
        "id": "d6GuzJgBJuXY",
        "outputId": "294bc70d-22c1-4a7a-e2f1-5a86c5a64b3b"
      },
      "execution_count": 8,
      "outputs": [
        {
          "output_type": "stream",
          "name": "stdout",
          "text": [
            "73\n",
            "-15\n",
            "12345678901234567890\n"
          ]
        }
      ]
    },
    {
      "cell_type": "code",
      "source": [
        "#float\n",
        "pie_value = 3.1416\n",
        "print(pie_value) \n",
        "\n",
        "std_form = 6.02200000000000000000000\n",
        "print(std_form)"
      ],
      "metadata": {
        "colab": {
          "base_uri": "https://localhost:8080/"
        },
        "id": "ZEjxdKMbJ7E1",
        "outputId": "6e07d325-ff73-46da-a6c4-a932dc477c07"
      },
      "execution_count": 9,
      "outputs": [
        {
          "output_type": "stream",
          "name": "stdout",
          "text": [
            "3.1416\n",
            "6.022\n"
          ]
        }
      ]
    },
    {
      "cell_type": "code",
      "source": [
        "#boolean\n",
        "print(True)\n",
        "print(False)\n",
        "\n",
        "true_var = True\n",
        "false_var = False\n",
        "print(true_var)\n",
        "print(false_var)"
      ],
      "metadata": {
        "colab": {
          "base_uri": "https://localhost:8080/"
        },
        "id": "DMEuZP_pKA4h",
        "outputId": "3c3134b4-ba12-43a8-d781-6d16f5d8b55c"
      },
      "execution_count": 10,
      "outputs": [
        {
          "output_type": "stream",
          "name": "stdout",
          "text": [
            "True\n",
            "False\n",
            "True\n",
            "False\n"
          ]
        }
      ]
    },
    {
      "cell_type": "code",
      "source": [
        "#string\n",
        "print(\"Hello World\")\n",
        "\n",
        "print('Goodbye')\n",
        "\n",
        "print(\"##@@\")\n",
        "\n",
        "print(\"Tom said, 'it has been raining a lot these days'.\") # single quotes inside doubly-quoted strings\n",
        "\n",
        "print(\"\") # A string containing no characters is an \"empty string\""
      ],
      "metadata": {
        "colab": {
          "base_uri": "https://localhost:8080/"
        },
        "id": "SVDMDF9KKM9g",
        "outputId": "8d2c4733-5779-4b7d-dfab-6ad5bcfc0b55"
      },
      "execution_count": 11,
      "outputs": [
        {
          "output_type": "stream",
          "name": "stdout",
          "text": [
            "Hello World\n",
            "Goodbye\n",
            "##@@\n",
            "Tom said, 'it has been raining a lot these days'.\n",
            "\n"
          ]
        }
      ]
    },
    {
      "cell_type": "code",
      "source": [
        "no_val = None\n",
        "print(no_val) # prints \"None\" and returns None\n",
        "#print(x) # will return error as x is an unassigned variable"
      ],
      "metadata": {
        "colab": {
          "base_uri": "https://localhost:8080/"
        },
        "id": "woPS9PJDMsB1",
        "outputId": "7f13bfab-10cc-4a8e-8782-a12d11714172"
      },
      "execution_count": 13,
      "outputs": [
        {
          "output_type": "stream",
          "name": "stdout",
          "text": [
            "None\n"
          ]
        }
      ]
    }
  ]
}