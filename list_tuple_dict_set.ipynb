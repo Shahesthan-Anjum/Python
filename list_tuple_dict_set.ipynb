{
  "nbformat": 4,
  "nbformat_minor": 0,
  "metadata": {
    "colab": {
      "name": "list/tuple/dict/set.ipynb",
      "provenance": [],
      "authorship_tag": "ABX9TyMrrQGcwknMSyTC8W/fmXzP",
      "include_colab_link": true
    },
    "kernelspec": {
      "name": "python3",
      "display_name": "Python 3"
    },
    "language_info": {
      "name": "python"
    }
  },
  "cells": [
    {
      "cell_type": "markdown",
      "metadata": {
        "id": "view-in-github",
        "colab_type": "text"
      },
      "source": [
        "<a href=\"https://colab.research.google.com/github/Shahesthan-Anjum/Python/blob/main/list_tuple_dict_set.ipynb\" target=\"_parent\"><img src=\"https://colab.research.google.com/assets/colab-badge.svg\" alt=\"Open In Colab\"/></a>"
      ]
    },
    {
      "cell_type": "code",
      "execution_count": 1,
      "metadata": {
        "colab": {
          "base_uri": "https://localhost:8080/"
        },
        "id": "LzS_V3swGNpK",
        "outputId": "4faac85c-a411-491f-f709-7db1b13b74ce"
      },
      "outputs": [
        {
          "output_type": "stream",
          "name": "stdout",
          "text": [
            "(1, 2, 'college', 9)\n",
            "()\n",
            "(1, 3, 5, 9, 'hello')\n"
          ]
        }
      ],
      "source": [
        "tuple1=(1,2,\"college\",9)\n",
        "tuple2=() # creates an empty tuple\n",
        "tuple3=tuple((1,3,5,9,\"hello\"))\n",
        "print(tuple1)\n",
        "print(tuple2)\n",
        "print(tuple3)"
      ]
    },
    {
      "cell_type": "code",
      "source": [
        "set1={1,2,3,4,5,\"hello\",\"tup\"}\n",
        "set2={(1,8,\"python\",7)}\n",
        "print(set1)\n",
        "print(set2)"
      ],
      "metadata": {
        "colab": {
          "base_uri": "https://localhost:8080/"
        },
        "id": "ZeeWVFXGGg4M",
        "outputId": "7225630a-3127-424f-ae5f-824a79375f17"
      },
      "execution_count": 2,
      "outputs": [
        {
          "output_type": "stream",
          "name": "stdout",
          "text": [
            "{1, 2, 3, 4, 5, 'hello', 'tup'}\n",
            "{(1, 8, 'python', 7)}\n"
          ]
        }
      ]
    },
    {
      "cell_type": "code",
      "source": [
        "set1={\"water\",\"air\",\"food\"}\n",
        "set1.add(\"shelter\")   # adds an element to the set at random position\n",
        "print(set1)\n",
        "set1.add(\"clothes\")\n",
        "print(set1)\n",
        "set1.pop()  # removes random element from the set\n",
        "print(set1)"
      ],
      "metadata": {
        "colab": {
          "base_uri": "https://localhost:8080/"
        },
        "id": "5gCUkUmmHjb9",
        "outputId": "85a922b7-9df1-4307-f6ad-2560cda45068"
      },
      "execution_count": 8,
      "outputs": [
        {
          "output_type": "stream",
          "name": "stdout",
          "text": [
            "{'food', 'shelter', 'air', 'water'}\n",
            "{'shelter', 'water', 'food', 'clothes', 'air'}\n",
            "{'water', 'food', 'clothes', 'air'}\n"
          ]
        }
      ]
    },
    {
      "cell_type": "code",
      "source": [
        "dict1={\"key1\":\"value1\",\"key2\":\"value2\"}\n",
        "print(dict1)\n",
        "dict2={}   # empty dictionary\n",
        "print(dict2)\n",
        "dict3=dict({1:\"apple\",2:\"cherry\",3:\"strawberry\"})\n",
        "print(dict3)"
      ],
      "metadata": {
        "colab": {
          "base_uri": "https://localhost:8080/"
        },
        "id": "iXh18G_AGlmV",
        "outputId": "8c83d443-89d2-4550-a346-8b8b1e402f3c"
      },
      "execution_count": 3,
      "outputs": [
        {
          "output_type": "stream",
          "name": "stdout",
          "text": [
            "{'key1': 'value1', 'key2': 'value2'}\n",
            "{}\n",
            "{1: 'apple', 2: 'cherry', 3: 'strawberry'}\n"
          ]
        }
      ]
    },
    {
      "cell_type": "code",
      "source": [
        "list1=[\"hello\",1,4,8,\"good\"]\n",
        "print(list1)\n",
        "list1[0]=\"morning\"  # assigning values (\"hello\" is replaced with \"morning\")\n",
        "print(list1)\n",
        "print(list1[4])\n",
        "print(list1[-1]) # list also allow negative indexing\n",
        "print(list1[1:4]) # slicing\n",
        "list2=[\"apple\",\"mango\",\"banana\"]\n",
        "print(list1+list2) # list concatenation\n"
      ],
      "metadata": {
        "colab": {
          "base_uri": "https://localhost:8080/"
        },
        "id": "uGQ-uqTQGv6P",
        "outputId": "298e3d8a-a20e-4509-a7e3-fb93ede0ba6e"
      },
      "execution_count": 4,
      "outputs": [
        {
          "output_type": "stream",
          "name": "stdout",
          "text": [
            "['hello', 1, 4, 8, 'good']\n",
            "['morning', 1, 4, 8, 'good']\n",
            "good\n",
            "good\n",
            "[1, 4, 8]\n",
            "['morning', 1, 4, 8, 'good', 'apple', 'mango', 'banana']\n"
          ]
        }
      ]
    },
    {
      "cell_type": "code",
      "source": [
        "tuple1=(\"good\",1,2,3,\"morning\")\n",
        "print(tuple1)\n",
        "print(tuple1[0])  # accessing values using indexing\n",
        "#tuple1[1]=\"change\"  # a value cannot be changed as they are immutable\n",
        "tuple2=(\"orange\",\"grapes\")\n",
        "print(tuple1+tuple2)  # tuples can be concatenated\n",
        "tuple3=(1,2,3)\n",
        "print(type(tuple3))"
      ],
      "metadata": {
        "colab": {
          "base_uri": "https://localhost:8080/"
        },
        "id": "VZH_82MOG3uS",
        "outputId": "065455cc-0d6d-4204-d92c-dfa269a1bc6c"
      },
      "execution_count": 5,
      "outputs": [
        {
          "output_type": "stream",
          "name": "stdout",
          "text": [
            "('good', 1, 2, 3, 'morning')\n",
            "good\n",
            "('good', 1, 2, 3, 'morning', 'orange', 'grapes')\n",
            "<class 'tuple'>\n"
          ]
        }
      ]
    },
    {
      "cell_type": "code",
      "source": [
        "dict1={\"key1\":1,\"key2\":\"value2\",3:\"value3\"}\n",
        "print(dict1.keys())  # all the keys are printed\n",
        "dict1.values() # all the values are printed\n",
        "dict1[\"key1\"]=\"replace_one\"  # value assigned to key1 is replaced\n",
        "print(dict1)\n",
        "print(dict1[\"key2\"])"
      ],
      "metadata": {
        "colab": {
          "base_uri": "https://localhost:8080/"
        },
        "id": "1P_szQ00G_DX",
        "outputId": "7a28efe9-6f23-4ed3-9bde-457de4c9a0d8"
      },
      "execution_count": 6,
      "outputs": [
        {
          "output_type": "stream",
          "name": "stdout",
          "text": [
            "dict_keys(['key1', 'key2', 3])\n",
            "{'key1': 'replace_one', 'key2': 'value2', 3: 'value3'}\n",
            "value2\n"
          ]
        }
      ]
    },
    {
      "cell_type": "code",
      "source": [
        "list1=[\"apple\",\"banana\",\"grapes\"]\n",
        "list1.append(\"strawberry\")   # strawberry is added to the list\n",
        "print(list1)\n",
        "list1.pop()  # removes the last element from the list\n",
        "print(list1)\n",
        "list1.pop()\n",
        "print(list1)"
      ],
      "metadata": {
        "colab": {
          "base_uri": "https://localhost:8080/"
        },
        "id": "mu-KU2s6HT8W",
        "outputId": "65e96cdb-4349-49eb-afba-ff0e1e8511a1"
      },
      "execution_count": 7,
      "outputs": [
        {
          "output_type": "stream",
          "name": "stdout",
          "text": [
            "['apple', 'banana', 'grapes', 'strawberry']\n",
            "['apple', 'banana', 'grapes']\n",
            "['apple', 'banana']\n"
          ]
        }
      ]
    },
    {
      "cell_type": "code",
      "source": [
        "dict1={\"fruit1\":\"apple\",\"fruit2\":\"banana\",\"veg1\":\"tomato\"}\n",
        "dict1.update({\"veg2\":\"brinjal\"})\n",
        "print(dict1)\n",
        "dict1.update({\"veg3\":\"chilli\"})  # updates the dictionary at the end\n",
        "print(dict1)\n",
        "dict1.pop(\"veg2\")\n",
        "print(dict1)"
      ],
      "metadata": {
        "colab": {
          "base_uri": "https://localhost:8080/"
        },
        "id": "1rVh5FpcHuq_",
        "outputId": "7d40cf97-d6bd-4ae3-e2a5-4a5002f42b8a"
      },
      "execution_count": 9,
      "outputs": [
        {
          "output_type": "stream",
          "name": "stdout",
          "text": [
            "{'fruit1': 'apple', 'fruit2': 'banana', 'veg1': 'tomato', 'veg2': 'brinjal'}\n",
            "{'fruit1': 'apple', 'fruit2': 'banana', 'veg1': 'tomato', 'veg2': 'brinjal', 'veg3': 'chilli'}\n",
            "{'fruit1': 'apple', 'fruit2': 'banana', 'veg1': 'tomato', 'veg3': 'chilli'}\n"
          ]
        }
      ]
    },
    {
      "cell_type": "code",
      "source": [
        "list1=[1,5,3,9,\"apple\"]\n",
        "print(list1.index(9)) # returns the index value of the particular element\n",
        "list2=[2,7,8,7]\n",
        "print(list2.index(7)) # returns the index value of the element at its first occurence\n",
        "print(list2.index(7,2)) # returns the index value of the element from the particular start position given\n",
        "\n",
        "\n",
        "tuple1=(1,3,6,7,9,10)\n",
        "print(tuple1.index(6))\n",
        "print(tuple1.index(9))\n",
        "\n",
        "\n",
        "set1={1,5,6,3,9}\n",
        "# set1.index()  will throw an error as they are unordered\n",
        "\n",
        "\n",
        "dict1={\"key1\":\"value1\",\"key2\":\"value2\"}\n",
        "# dict1.index(\"key1\") will throw an error\n",
        "print(dict1.get(\"key1\"))"
      ],
      "metadata": {
        "colab": {
          "base_uri": "https://localhost:8080/"
        },
        "id": "4SjLswVHH5JW",
        "outputId": "e6414cab-40e5-4551-a5bc-ec9596451155"
      },
      "execution_count": 11,
      "outputs": [
        {
          "output_type": "stream",
          "name": "stdout",
          "text": [
            "3\n",
            "1\n",
            "3\n",
            "2\n",
            "4\n",
            "value1\n"
          ]
        }
      ]
    }
  ]
}