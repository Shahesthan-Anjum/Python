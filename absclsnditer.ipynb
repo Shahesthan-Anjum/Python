{
  "nbformat": 4,
  "nbformat_minor": 0,
  "metadata": {
    "colab": {
      "name": "absclsnditer.ipynb",
      "provenance": [],
      "authorship_tag": "ABX9TyNkcWbx7dgqamPPJB8aGWCX",
      "include_colab_link": true
    },
    "kernelspec": {
      "name": "python3",
      "display_name": "Python 3"
    },
    "language_info": {
      "name": "python"
    }
  },
  "cells": [
    {
      "cell_type": "markdown",
      "metadata": {
        "id": "view-in-github",
        "colab_type": "text"
      },
      "source": [
        "<a href=\"https://colab.research.google.com/github/Shahesthan-Anjum/Python/blob/main/absclsnditer.ipynb\" target=\"_parent\"><img src=\"https://colab.research.google.com/assets/colab-badge.svg\" alt=\"Open In Colab\"/></a>"
      ]
    },
    {
      "cell_type": "code",
      "execution_count": null,
      "metadata": {
        "colab": {
          "base_uri": "https://localhost:8080/"
        },
        "id": "gi9qzOCtW8jC",
        "outputId": "427e8032-9745-4960-a745-90812031f73d"
      },
      "outputs": [
        {
          "output_type": "stream",
          "name": "stdout",
          "text": [
            "I have 3 sides\n",
            "I have 4 sides\n",
            "I have 5 sides\n",
            "I have 6 sides\n"
          ]
        }
      ],
      "source": [
        "# Python program showing\n",
        "# abstract base class work\n",
        "\n",
        "from abc import ABC, abstractmethod\n",
        "\n",
        "class Polygon(ABC):\n",
        "\n",
        "\t@abstractmethod\n",
        "\tdef noofsides(self):\n",
        "\t\tpass\n",
        "\n",
        "class Triangle(Polygon):\n",
        "\n",
        "\t# overriding abstract method\n",
        "\tdef noofsides(self):\n",
        "\t\tprint(\"I have 3 sides\")\n",
        "\n",
        "class Pentagon(Polygon):\n",
        "\n",
        "\t# overriding abstract method\n",
        "\tdef noofsides(self):\n",
        "\t\tprint(\"I have 5 sides\")\n",
        "\n",
        "class Hexagon(Polygon):\n",
        "\n",
        "\t# overriding abstract method\n",
        "\tdef noofsides(self):\n",
        "\t\tprint(\"I have 6 sides\")\n",
        "\n",
        "class Quadrilateral(Polygon):\n",
        "\n",
        "\t# overriding abstract method\n",
        "\tdef noofsides(self):\n",
        "\t\tprint(\"I have 4 sides\")\n",
        "\n",
        "# Driver code\n",
        "R = Triangle()\n",
        "R.noofsides()\n",
        "\n",
        "K = Quadrilateral()\n",
        "K.noofsides()\n",
        "\n",
        "R = Pentagon()\n",
        "R.noofsides()\n",
        "\n",
        "K = Hexagon()\n",
        "K.noofsides()\n"
      ]
    },
    {
      "cell_type": "code",
      "source": [
        "num=[3,4,5,6]\n",
        "it=iter(num)\n",
        "print(it.__next__())\n",
        "print(it.__next__())\n"
      ],
      "metadata": {
        "colab": {
          "base_uri": "https://localhost:8080/"
        },
        "id": "_X-JFz8CZs_T",
        "outputId": "fcdedf1b-e948-42ae-e0d4-26b6f4b8e75f"
      },
      "execution_count": null,
      "outputs": [
        {
          "output_type": "stream",
          "name": "stdout",
          "text": [
            "3\n",
            "4\n"
          ]
        }
      ]
    },
    {
      "cell_type": "code",
      "source": [
        "for i in num:\n",
        "  print(i)"
      ],
      "metadata": {
        "colab": {
          "base_uri": "https://localhost:8080/"
        },
        "id": "z19ThvMxbKcL",
        "outputId": "f4fbd0f5-5303-406a-f6e4-cc5907ce9c30"
      },
      "execution_count": null,
      "outputs": [
        {
          "output_type": "stream",
          "name": "stdout",
          "text": [
            "3\n",
            "4\n",
            "5\n",
            "6\n"
          ]
        }
      ]
    },
    {
      "cell_type": "code",
      "source": [
        "print(next(it))"
      ],
      "metadata": {
        "colab": {
          "base_uri": "https://localhost:8080/"
        },
        "id": "65xXIsfAa6x4",
        "outputId": "729a0d25-3ece-4470-a251-267d8b36ec02"
      },
      "execution_count": null,
      "outputs": [
        {
          "output_type": "stream",
          "name": "stdout",
          "text": [
            "5\n"
          ]
        }
      ]
    },
    {
      "cell_type": "code",
      "source": [
        ""
      ],
      "metadata": {
        "id": "l7bPbrjccREg"
      },
      "execution_count": 1,
      "outputs": []
    }
  ]
}