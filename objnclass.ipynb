{
  "nbformat": 4,
  "nbformat_minor": 0,
  "metadata": {
    "colab": {
      "name": "objnclass.ipynb",
      "provenance": [],
      "authorship_tag": "ABX9TyPXpGNh1nkbiCNL9peWs911",
      "include_colab_link": true
    },
    "kernelspec": {
      "name": "python3",
      "display_name": "Python 3"
    },
    "language_info": {
      "name": "python"
    }
  },
  "cells": [
    {
      "cell_type": "markdown",
      "metadata": {
        "id": "view-in-github",
        "colab_type": "text"
      },
      "source": [
        "<a href=\"https://colab.research.google.com/github/Shahesthan-Anjum/Python/blob/main/objnclass.ipynb\" target=\"_parent\"><img src=\"https://colab.research.google.com/assets/colab-badge.svg\" alt=\"Open In Colab\"/></a>"
      ]
    },
    {
      "cell_type": "code",
      "execution_count": null,
      "metadata": {
        "id": "jjBm-sz63GXG"
      },
      "outputs": [],
      "source": [
        "class MyClass:\n",
        "  x = 5\n"
      ]
    },
    {
      "cell_type": "code",
      "source": [
        "p1 = MyClass()\n",
        "print(p1.x)"
      ],
      "metadata": {
        "colab": {
          "base_uri": "https://localhost:8080/"
        },
        "id": "zgzGlhwy5otp",
        "outputId": "4ba023a2-2688-4050-ee95-312e39541994"
      },
      "execution_count": null,
      "outputs": [
        {
          "output_type": "stream",
          "name": "stdout",
          "text": [
            "5\n"
          ]
        }
      ]
    },
    {
      "cell_type": "code",
      "source": [
        "class Name:\n",
        "\t# attribute\n",
        "\tattr1 = \"anjum\"\n",
        "\tattr2 = \"anju\"\n",
        "\n",
        "\t#method\n",
        "\tdef fun(self):\n",
        "\t\tprint(\"I'm a\", self.attr1)\n",
        "\t\tprint(\"I'm a\", self.attr2)\n",
        "\n",
        "# Driver code\n",
        "# Object instantiation\n",
        "Rodger = Name()\n",
        "\n",
        "# Accessing class attributes\n",
        "# and method through objects\n",
        "print(Rodger.attr1)\n",
        "print(Rodger.attr2)\n",
        "Rodger.fun()\n"
      ],
      "metadata": {
        "colab": {
          "base_uri": "https://localhost:8080/"
        },
        "id": "VpDEp9whWcCo",
        "outputId": "c5831f14-1755-469d-dff8-baa0a64cdf9b"
      },
      "execution_count": 3,
      "outputs": [
        {
          "output_type": "stream",
          "name": "stdout",
          "text": [
            "anjum\n",
            "anju\n",
            "I'm a anjum\n",
            "I'm a anju\n"
          ]
        }
      ]
    },
    {
      "cell_type": "code",
      "source": [
        ""
      ],
      "metadata": {
        "id": "x9xrY80hXFRU"
      },
      "execution_count": null,
      "outputs": []
    },
    {
      "cell_type": "code",
      "source": [
        "class Person:\n",
        "  def __init__(self, name, age):\n",
        "    self.name = name\n",
        "    self.age = age\n",
        "\n",
        "p1 = Person(\"anju\", 24)\n",
        "\n",
        "print(p1.name)\n",
        "print(p1.age)\n"
      ],
      "metadata": {
        "colab": {
          "base_uri": "https://localhost:8080/"
        },
        "id": "rxeOBFQh5ujd",
        "outputId": "c72889c7-e11b-40db-f081-a3ec5660e718"
      },
      "execution_count": null,
      "outputs": [
        {
          "output_type": "stream",
          "name": "stdout",
          "text": [
            "anju\n",
            "24\n"
          ]
        }
      ]
    },
    {
      "cell_type": "code",
      "source": [
        "# A Sample class with init method\n",
        "class Person:\n",
        "\n",
        "\t# init method or constructor\n",
        "\tdef __init__(self, name):\n",
        "\t\tself.name = name\n",
        "\n",
        "\t# Sample Method\n",
        "\tdef say_hi(self):\n",
        "\t\tprint('Hello, my name is', self.name)\n",
        "\n",
        "p = Person('Anjum')\n",
        "p.say_hi()\n"
      ],
      "metadata": {
        "colab": {
          "base_uri": "https://localhost:8080/"
        },
        "id": "KGpESW_9XZ8l",
        "outputId": "8912148e-ce38-4e3a-9b61-7a30e77290ce"
      },
      "execution_count": 5,
      "outputs": [
        {
          "output_type": "stream",
          "name": "stdout",
          "text": [
            "Hello, my name is Anjum\n"
          ]
        }
      ]
    },
    {
      "cell_type": "code",
      "source": [
        "class Person:\n",
        "  def __init__(self, name, age):\n",
        "    self.name = name\n",
        "    self.age = age\n",
        "\n",
        "  def myfunc(self):\n",
        "    print(\"Hello my name is \" + self.name)\n",
        "    #print(self.age)\n",
        "p1 = Person(\"anju\", 24)\n",
        "#p1.age = 40\n",
        "#del p1.age\n",
        "\n",
        "p1.myfunc()\n",
        "del p1\n"
      ],
      "metadata": {
        "colab": {
          "base_uri": "https://localhost:8080/"
        },
        "id": "qQN4Eo1a53fl",
        "outputId": "ee1fa569-3fd2-453a-f6dd-18febb638938"
      },
      "execution_count": null,
      "outputs": [
        {
          "output_type": "stream",
          "name": "stdout",
          "text": [
            "Hello my name is anju\n"
          ]
        }
      ]
    },
    {
      "cell_type": "code",
      "source": [
        "# Python 3 program for recursive binary search.\n",
        "# Modifications needed for the older Python 2 are found in comments.\n",
        "\n",
        "# Returns index of x in arr if present, else -1\n",
        "def binary_search(arr, low, high, x):\n",
        "\n",
        "\t# Check base case\n",
        "\tif high >= low:\n",
        "\n",
        "\t\tmid = (high + low) // 2\n",
        "\n",
        "\t\t# If element is present at the middle itself\n",
        "\t\tif arr[mid] == x:\n",
        "\t\t\treturn mid\n",
        "\n",
        "\t\t# If element is smaller than mid, then it can only\n",
        "\t\t# be present in left subarray\n",
        "\t\telif arr[mid] > x:\n",
        "\t\t\treturn binary_search(arr, low, mid - 1, x)\n",
        "\n",
        "\t\t# Else the element can only be present in right subarray\n",
        "\t\telse:\n",
        "\t\t\treturn binary_search(arr, mid + 1, high, x)\n",
        "\n",
        "\telse:\n",
        "\t\t# Element is not present in the array\n",
        "\t\treturn -1\n",
        "\n",
        "# Test array\n",
        "arr = [ 2, 3, 4, 10, 40 ]\n",
        "x = 10\n",
        "\n",
        "# Function call\n",
        "result = binary_search(arr, 0, len(arr)-1, x)\n",
        "\n",
        "if result != -1:\n",
        "\tprint(\"Element is present at index\", str(result))\n",
        "else:\n",
        "\tprint(\"Element is not present in array\")\n"
      ],
      "metadata": {
        "colab": {
          "base_uri": "https://localhost:8080/"
        },
        "id": "szCst4ab0wCm",
        "outputId": "73e368f5-50be-42b0-c737-1df7889c21e7"
      },
      "execution_count": null,
      "outputs": [
        {
          "output_type": "stream",
          "name": "stdout",
          "text": [
            "Element is present at index 3\n"
          ]
        }
      ]
    },
    {
      "cell_type": "code",
      "source": [
        ""
      ],
      "metadata": {
        "id": "lb1gfdJLQ_Ec"
      },
      "execution_count": null,
      "outputs": []
    }
  ]
}